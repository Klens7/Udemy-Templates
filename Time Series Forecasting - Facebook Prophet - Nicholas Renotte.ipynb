{
 "cells": [
  {
   "cell_type": "markdown",
   "id": "299582a2",
   "metadata": {},
   "source": [
    "# Time Series Forecasting - Facebook Prophet - Nicholas Renotte"
   ]
  },
  {
   "cell_type": "code",
   "execution_count": 1,
   "id": "815d2964",
   "metadata": {},
   "outputs": [],
   "source": [
    "import warnings;\n",
    "warnings.simplefilter('ignore')"
   ]
  },
  {
   "cell_type": "markdown",
   "id": "7260b2ff",
   "metadata": {},
   "source": [
    "we will use retail sales data, we can use weather data or stock data with this model"
   ]
  },
  {
   "cell_type": "markdown",
   "id": "ea77e571",
   "metadata": {},
   "source": [
    "## 0 Install and Import Dependencies"
   ]
  },
  {
   "cell_type": "markdown",
   "id": "ac231d86",
   "metadata": {},
   "source": [
    "Time series forecasting is one of most demanding object in machine learning. The easiest way for projecting your time series data is using a module named Prophet (a.k.a. fbprophet). Prophet is a procedure for forecasting time series data based on an additive model where non-linear trends are fit with yearly, weekly, and daily seasonality, plus holiday effects."
   ]
  },
  {
   "cell_type": "markdown",
   "id": "fdf99421",
   "metadata": {},
   "source": [
    "Prophet module is released by Facebook’s Core Data Science team\n",
    "\n",
    "Major dependency that prophet has is pystan\n",
    "\n",
    "On windows, pystan requires a compiler"
   ]
  },
  {
   "cell_type": "markdown",
   "id": "96a79336",
   "metadata": {},
   "source": [
    "-first install c++ compiler\n",
    "conda install libpython m2w64-toolchain -c msys2\n",
    "\n",
    "-install pystan\n",
    "pip install pystan\n",
    "\n",
    "-install fbprophet\n",
    "pip install fbprophet"
   ]
  },
  {
   "cell_type": "code",
   "execution_count": 2,
   "id": "3155f756",
   "metadata": {},
   "outputs": [
    {
     "name": "stdout",
     "output_type": "stream",
     "text": [
      "Collecting pystan~=2.14"
     ]
    },
    {
     "name": "stderr",
     "output_type": "stream",
     "text": [
      "  error: subprocess-exited-with-error\n",
      "  \n",
      "  python setup.py egg_info did not run successfully.\n",
      "  exit code: 1\n",
      "  \n",
      "  [6 lines of output]\n",
      "  Traceback (most recent call last):\n",
      "    File \"<string>\", line 2, in <module>\n",
      "    File \"<pip-setuptools-caller>\", line 34, in <module>\n",
      "    File \"C:\\Users\\D8ISU4A\\AppData\\Local\\Temp\\1\\pip-install-y8t_36pd\\pystan_f60068c0ee8d4f88bb302b0f8cd3ab66\\setup.py\", line 122, in <module>\n",
      "      from Cython.Build.Inline import _get_build_extension\n",
      "  ModuleNotFoundError: No module named 'Cython'\n",
      "  [end of output]\n",
      "  \n",
      "  note: This error originates from a subprocess, and is likely not a problem with pip.\n",
      "error: metadata-generation-failed\n",
      "\n",
      "Encountered error while generating package metadata.\n",
      "\n",
      "See above for output.\n",
      "\n",
      "note: This is an issue with the package mentioned above, not pip.\n",
      "hint: See above for details.\n"
     ]
    },
    {
     "name": "stdout",
     "output_type": "stream",
     "text": [
      "\n",
      "  Using cached pystan-2.19.1.1.tar.gz (16.2 MB)\n",
      "  Preparing metadata (setup.py): started\n",
      "  Preparing metadata (setup.py): finished with status 'error'\n"
     ]
    }
   ],
   "source": [
    "!pip install pystan~=2.14"
   ]
  },
  {
   "cell_type": "code",
   "execution_count": null,
   "id": "a69c1404",
   "metadata": {},
   "outputs": [],
   "source": [
    "!pip install fbprophet"
   ]
  },
  {
   "cell_type": "markdown",
   "id": "e26ada00",
   "metadata": {},
   "source": [
    "## 1 Read in Data and Process Dates"
   ]
  },
  {
   "cell_type": "code",
   "execution_count": null,
   "id": "d9e7da23",
   "metadata": {},
   "outputs": [],
   "source": []
  },
  {
   "cell_type": "markdown",
   "id": "3fbe3edc",
   "metadata": {},
   "source": [
    "## 2 Train Model"
   ]
  },
  {
   "cell_type": "code",
   "execution_count": null,
   "id": "5963412a",
   "metadata": {},
   "outputs": [],
   "source": []
  },
  {
   "cell_type": "markdown",
   "id": "290c8d4f",
   "metadata": {},
   "source": [
    "## 3. Forecast Away"
   ]
  },
  {
   "cell_type": "markdown",
   "id": "4bb60040",
   "metadata": {},
   "source": []
  }
 ],
 "metadata": {
  "kernelspec": {
   "display_name": "Python 3 (ipykernel)",
   "language": "python",
   "name": "python3"
  },
  "language_info": {
   "codemirror_mode": {
    "name": "ipython",
    "version": 3
   },
   "file_extension": ".py",
   "mimetype": "text/x-python",
   "name": "python",
   "nbconvert_exporter": "python",
   "pygments_lexer": "ipython3",
   "version": "3.10.9"
  }
 },
 "nbformat": 4,
 "nbformat_minor": 5
}

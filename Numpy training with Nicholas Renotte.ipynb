{
 "cells": [
  {
   "cell_type": "markdown",
   "id": "0645c83a",
   "metadata": {},
   "source": [
    "# Numpy training with Nicholas Renotte"
   ]
  },
  {
   "cell_type": "markdown",
   "id": "b0eea5af",
   "metadata": {},
   "source": [
    "Numpy is fast powerful library working with arrays big and small\n",
    "\n",
    "has support for N-dimensional arrays (arrays within arrays within arrays)\n",
    "\n",
    "useful for deep learning libraries like tensorflow, keras, or pytorch\n",
    "\n",
    "or performing data science with pandas or building machine learning models"
   ]
  },
  {
   "cell_type": "markdown",
   "id": "fcab4633",
   "metadata": {},
   "source": [
    "pip install numpy"
   ]
  },
  {
   "cell_type": "markdown",
   "id": "49bb4428",
   "metadata": {},
   "source": [
    "CRUD framework- create, read, updating, deleting\n",
    "\n",
    "export numpy arrays to save work for later on"
   ]
  },
  {
   "cell_type": "code",
   "execution_count": 6,
   "id": "9f432ab6",
   "metadata": {},
   "outputs": [
    {
     "name": "stdout",
     "output_type": "stream",
     "text": [
      "Requirement already satisfied: numpy in c:\\users\\d8isu4a\\appdata\\local\\anaconda3\\lib\\site-packages (1.23.5)\n"
     ]
    }
   ],
   "source": [
    "!pip install numpy"
   ]
  },
  {
   "cell_type": "code",
   "execution_count": 7,
   "id": "0e383143",
   "metadata": {},
   "outputs": [],
   "source": [
    "import numpy as np"
   ]
  },
  {
   "cell_type": "code",
   "execution_count": 1,
   "id": "e5296e38",
   "metadata": {},
   "outputs": [],
   "source": [
    "# Create"
   ]
  },
  {
   "cell_type": "markdown",
   "id": "12918901",
   "metadata": {},
   "source": [
    "array is a list that looks like this [1,2,3,4]\n",
    "\n",
    "2 dimensional array [1,2,3,4], [5,6,7,8]"
   ]
  },
  {
   "cell_type": "code",
   "execution_count": 10,
   "id": "4ee89a61",
   "metadata": {},
   "outputs": [],
   "source": [
    "# 4 different types of numpy arrays\n",
    "data = np.random.rand(2,3,4)     # random numbers with the shape\n",
    "zeros = np.zeros ((2,2,2))\n",
    "full = np.full((2,2,2),7)\n",
    "ones = np.ones((2,2,2))"
   ]
  },
  {
   "cell_type": "code",
   "execution_count": 11,
   "id": "b6eb79a9",
   "metadata": {},
   "outputs": [
    {
     "data": {
      "text/plain": [
       "array([[[0.82091714, 0.16973226, 0.94940067, 0.03148648],\n",
       "        [0.11951523, 0.47810289, 0.26152808, 0.83583355],\n",
       "        [0.30822658, 0.18014681, 0.26174407, 0.52607911]],\n",
       "\n",
       "       [[0.63201837, 0.43417106, 0.87767179, 0.27138301],\n",
       "        [0.53501581, 0.27258162, 0.28354692, 0.92925194],\n",
       "        [0.55470575, 0.18133631, 0.21966322, 0.8929564 ]]])"
      ]
     },
     "execution_count": 11,
     "metadata": {},
     "output_type": "execute_result"
    }
   ],
   "source": [
    "data"
   ]
  },
  {
   "cell_type": "code",
   "execution_count": 12,
   "id": "5c912f8d",
   "metadata": {},
   "outputs": [
    {
     "data": {
      "text/plain": [
       "array([[[0., 0.],\n",
       "        [0., 0.]],\n",
       "\n",
       "       [[0., 0.],\n",
       "        [0., 0.]]])"
      ]
     },
     "execution_count": 12,
     "metadata": {},
     "output_type": "execute_result"
    }
   ],
   "source": [
    "zeros"
   ]
  },
  {
   "cell_type": "code",
   "execution_count": 13,
   "id": "2f58724f",
   "metadata": {},
   "outputs": [
    {
     "data": {
      "text/plain": [
       "array([[[7, 7],\n",
       "        [7, 7]],\n",
       "\n",
       "       [[7, 7],\n",
       "        [7, 7]]])"
      ]
     },
     "execution_count": 13,
     "metadata": {},
     "output_type": "execute_result"
    }
   ],
   "source": [
    "full"
   ]
  },
  {
   "cell_type": "code",
   "execution_count": 14,
   "id": "3372706b",
   "metadata": {},
   "outputs": [
    {
     "data": {
      "text/plain": [
       "array([[[1., 1.],\n",
       "        [1., 1.]],\n",
       "\n",
       "       [[1., 1.],\n",
       "        [1., 1.]]])"
      ]
     },
     "execution_count": 14,
     "metadata": {},
     "output_type": "execute_result"
    }
   ],
   "source": [
    "ones"
   ]
  },
  {
   "cell_type": "markdown",
   "id": "b5fd3c9d",
   "metadata": {},
   "source": [
    "use numpy.array method for custom array"
   ]
  },
  {
   "cell_type": "code",
   "execution_count": 15,
   "id": "54f383ed",
   "metadata": {},
   "outputs": [],
   "source": [
    "arr = np.array([[1,2,3,4],[1,2,3,4]])"
   ]
  },
  {
   "cell_type": "code",
   "execution_count": 16,
   "id": "903548cb",
   "metadata": {},
   "outputs": [
    {
     "data": {
      "text/plain": [
       "array([[1, 2, 3, 4],\n",
       "       [1, 2, 3, 4]])"
      ]
     },
     "execution_count": 16,
     "metadata": {},
     "output_type": "execute_result"
    }
   ],
   "source": [
    "arr"
   ]
  },
  {
   "cell_type": "code",
   "execution_count": 17,
   "id": "74808989",
   "metadata": {},
   "outputs": [
    {
     "data": {
      "text/plain": [
       "numpy.ndarray"
      ]
     },
     "execution_count": 17,
     "metadata": {},
     "output_type": "execute_result"
    }
   ],
   "source": [
    "type(arr)"
   ]
  },
  {
   "cell_type": "code",
   "execution_count": null,
   "id": "ba8b6512",
   "metadata": {},
   "outputs": [],
   "source": []
  },
  {
   "cell_type": "code",
   "execution_count": null,
   "id": "be8ff96d",
   "metadata": {},
   "outputs": [],
   "source": []
  },
  {
   "cell_type": "code",
   "execution_count": 4,
   "id": "59f7fb42",
   "metadata": {},
   "outputs": [],
   "source": [
    "# Read"
   ]
  },
  {
   "cell_type": "code",
   "execution_count": 19,
   "id": "d3d5731d",
   "metadata": {},
   "outputs": [],
   "source": [
    "# attributes\n",
    "\n",
    "shape = data.shape\n",
    "size = data.size\n",
    "types = data.dtype"
   ]
  },
  {
   "cell_type": "code",
   "execution_count": 20,
   "id": "9bb7d64c",
   "metadata": {},
   "outputs": [
    {
     "data": {
      "text/plain": [
       "(2, 3, 4)"
      ]
     },
     "execution_count": 20,
     "metadata": {},
     "output_type": "execute_result"
    }
   ],
   "source": [
    "shape"
   ]
  },
  {
   "cell_type": "code",
   "execution_count": 21,
   "id": "666369b0",
   "metadata": {},
   "outputs": [
    {
     "data": {
      "text/plain": [
       "24"
      ]
     },
     "execution_count": 21,
     "metadata": {},
     "output_type": "execute_result"
    }
   ],
   "source": [
    "size"
   ]
  },
  {
   "cell_type": "code",
   "execution_count": 22,
   "id": "07683d34",
   "metadata": {},
   "outputs": [
    {
     "data": {
      "text/plain": [
       "dtype('float64')"
      ]
     },
     "execution_count": 22,
     "metadata": {},
     "output_type": "execute_result"
    }
   ],
   "source": [
    "types"
   ]
  },
  {
   "cell_type": "code",
   "execution_count": 25,
   "id": "56d44340",
   "metadata": {},
   "outputs": [],
   "source": [
    "# slicing through our numpy array\n",
    "\n",
    "arr1 = data[0]     # will grab first array of 3 values from above\n",
    "slicer = data[0:2]   # will grab first and second\n",
    "reverse = data[-1]   # will grab last array\n",
    "singlevel = data[0][0][0]  # grab a single value. first value within first dataframe "
   ]
  },
  {
   "cell_type": "code",
   "execution_count": 24,
   "id": "35d4d8cb",
   "metadata": {},
   "outputs": [
    {
     "data": {
      "text/plain": [
       "array([[0.82091714, 0.16973226, 0.94940067, 0.03148648],\n",
       "       [0.11951523, 0.47810289, 0.26152808, 0.83583355],\n",
       "       [0.30822658, 0.18014681, 0.26174407, 0.52607911]])"
      ]
     },
     "execution_count": 24,
     "metadata": {},
     "output_type": "execute_result"
    }
   ],
   "source": [
    "arr1"
   ]
  },
  {
   "cell_type": "code",
   "execution_count": 26,
   "id": "d657955c",
   "metadata": {},
   "outputs": [
    {
     "data": {
      "text/plain": [
       "array([[[0.82091714, 0.16973226, 0.94940067, 0.03148648],\n",
       "        [0.11951523, 0.47810289, 0.26152808, 0.83583355],\n",
       "        [0.30822658, 0.18014681, 0.26174407, 0.52607911]],\n",
       "\n",
       "       [[0.63201837, 0.43417106, 0.87767179, 0.27138301],\n",
       "        [0.53501581, 0.27258162, 0.28354692, 0.92925194],\n",
       "        [0.55470575, 0.18133631, 0.21966322, 0.8929564 ]]])"
      ]
     },
     "execution_count": 26,
     "metadata": {},
     "output_type": "execute_result"
    }
   ],
   "source": [
    "slicer"
   ]
  },
  {
   "cell_type": "code",
   "execution_count": null,
   "id": "3b82f892",
   "metadata": {},
   "outputs": [],
   "source": []
  },
  {
   "cell_type": "code",
   "execution_count": 3,
   "id": "072b0d95",
   "metadata": {},
   "outputs": [],
   "source": [
    "# Update"
   ]
  },
  {
   "cell_type": "code",
   "execution_count": 27,
   "id": "b57d12d0",
   "metadata": {},
   "outputs": [],
   "source": [
    "list1 = np.random.rand(10)     #np.random.rand function\n",
    "list2 = np.random.rand(10)"
   ]
  },
  {
   "cell_type": "code",
   "execution_count": 28,
   "id": "d24a4331",
   "metadata": {},
   "outputs": [
    {
     "data": {
      "text/plain": [
       "array([0.00798396, 0.50270494, 0.66296314, 0.27256227, 0.48477575,\n",
       "       0.08845815, 0.86414518, 0.96009581, 0.29672114, 0.95943614])"
      ]
     },
     "execution_count": 28,
     "metadata": {},
     "output_type": "execute_result"
    }
   ],
   "source": [
    "list1"
   ]
  },
  {
   "cell_type": "code",
   "execution_count": 32,
   "id": "4f1f0c75",
   "metadata": {},
   "outputs": [],
   "source": [
    "# Basic math functions, work on numpy arrays. with our two lists\n",
    "\n",
    "add = np.add(list1 , list2)\n",
    "sub = np.subtract(list1 , list2)\n",
    "div = np.divide(list1 , list2)\n",
    "mult = np.multiply(list1 , list2)\n",
    "dot = np.dot(list1 , list2)     # multiply everything then aggregates together"
   ]
  },
  {
   "cell_type": "code",
   "execution_count": 31,
   "id": "36d8d07c",
   "metadata": {},
   "outputs": [
    {
     "data": {
      "text/plain": [
       "array([0.171124  , 1.13676681, 0.75528018, 0.30762257, 0.76095596,\n",
       "       0.75593771, 1.63193584, 1.79116313, 1.21595344, 1.29298973])"
      ]
     },
     "execution_count": 31,
     "metadata": {},
     "output_type": "execute_result"
    }
   ],
   "source": [
    "add"
   ]
  },
  {
   "cell_type": "code",
   "execution_count": 41,
   "id": "954a15c7",
   "metadata": {},
   "outputs": [],
   "source": [
    "# Statiscal Functions      SAPLEMM is the acronym to remember\n",
    "\n",
    "sqrt = np.sqrt(25)\n",
    "ab = np.abs(-2)\n",
    "power = np.power(2,7)\n",
    "log = np.log(25)\n",
    "exp = np.exp([2,3])\n",
    "mins = np.min(list1)\n",
    "maxs = np.max(list1)"
   ]
  },
  {
   "cell_type": "code",
   "execution_count": 34,
   "id": "4e22eae5",
   "metadata": {},
   "outputs": [
    {
     "data": {
      "text/plain": [
       "5.0"
      ]
     },
     "execution_count": 34,
     "metadata": {},
     "output_type": "execute_result"
    }
   ],
   "source": [
    "sqrt"
   ]
  },
  {
   "cell_type": "code",
   "execution_count": 35,
   "id": "4bf9aed2",
   "metadata": {},
   "outputs": [
    {
     "data": {
      "text/plain": [
       "2"
      ]
     },
     "execution_count": 35,
     "metadata": {},
     "output_type": "execute_result"
    }
   ],
   "source": [
    "ab"
   ]
  },
  {
   "cell_type": "code",
   "execution_count": 36,
   "id": "82a54dc3",
   "metadata": {},
   "outputs": [
    {
     "data": {
      "text/plain": [
       "128"
      ]
     },
     "execution_count": 36,
     "metadata": {},
     "output_type": "execute_result"
    }
   ],
   "source": [
    "power"
   ]
  },
  {
   "cell_type": "code",
   "execution_count": 37,
   "id": "5a434bec",
   "metadata": {},
   "outputs": [
    {
     "data": {
      "text/plain": [
       "3.2188758248682006"
      ]
     },
     "execution_count": 37,
     "metadata": {},
     "output_type": "execute_result"
    }
   ],
   "source": [
    "log"
   ]
  },
  {
   "cell_type": "code",
   "execution_count": 42,
   "id": "09789ab2",
   "metadata": {},
   "outputs": [
    {
     "data": {
      "text/plain": [
       "array([ 7.3890561 , 20.08553692])"
      ]
     },
     "execution_count": 42,
     "metadata": {},
     "output_type": "execute_result"
    }
   ],
   "source": [
    "exp"
   ]
  },
  {
   "cell_type": "code",
   "execution_count": 39,
   "id": "61c8168d",
   "metadata": {},
   "outputs": [
    {
     "data": {
      "text/plain": [
       "0.007983955076324323"
      ]
     },
     "execution_count": 39,
     "metadata": {},
     "output_type": "execute_result"
    }
   ],
   "source": [
    "mins"
   ]
  },
  {
   "cell_type": "code",
   "execution_count": 40,
   "id": "8a64666c",
   "metadata": {},
   "outputs": [
    {
     "data": {
      "text/plain": [
       "0.9600958098066945"
      ]
     },
     "execution_count": 40,
     "metadata": {},
     "output_type": "execute_result"
    }
   ],
   "source": [
    "maxs"
   ]
  },
  {
   "cell_type": "code",
   "execution_count": null,
   "id": "df1766f5",
   "metadata": {},
   "outputs": [],
   "source": []
  },
  {
   "cell_type": "code",
   "execution_count": 44,
   "id": "bdf073c5",
   "metadata": {},
   "outputs": [
    {
     "data": {
      "text/plain": [
       "array([[[0.82091714, 0.16973226, 0.94940067, 0.03148648],\n",
       "        [0.11951523, 0.47810289, 0.26152808, 0.83583355],\n",
       "        [0.30822658, 0.18014681, 0.26174407, 0.52607911]],\n",
       "\n",
       "       [[0.63201837, 0.43417106, 0.87767179, 0.27138301],\n",
       "        [0.53501581, 0.27258162, 0.28354692, 0.92925194],\n",
       "        [0.55470575, 0.18133631, 0.21966322, 0.8929564 ]]])"
      ]
     },
     "execution_count": 44,
     "metadata": {},
     "output_type": "execute_result"
    }
   ],
   "source": [
    "data\n",
    "# we want to change first value of .82091714 to 700"
   ]
  },
  {
   "cell_type": "code",
   "execution_count": 45,
   "id": "68da84c8",
   "metadata": {},
   "outputs": [],
   "source": [
    "data[0][0][0] = 700"
   ]
  },
  {
   "cell_type": "code",
   "execution_count": 46,
   "id": "129c4d88",
   "metadata": {},
   "outputs": [
    {
     "data": {
      "text/plain": [
       "array([[[7.00000000e+02, 1.69732257e-01, 9.49400667e-01, 3.14864819e-02],\n",
       "        [1.19515225e-01, 4.78102889e-01, 2.61528078e-01, 8.35833547e-01],\n",
       "        [3.08226581e-01, 1.80146806e-01, 2.61744069e-01, 5.26079114e-01]],\n",
       "\n",
       "       [[6.32018372e-01, 4.34171056e-01, 8.77671795e-01, 2.71383008e-01],\n",
       "        [5.35015808e-01, 2.72581622e-01, 2.83546915e-01, 9.29251935e-01],\n",
       "        [5.54705749e-01, 1.81336310e-01, 2.19663215e-01, 8.92956399e-01]]])"
      ]
     },
     "execution_count": 46,
     "metadata": {},
     "output_type": "execute_result"
    }
   ],
   "source": [
    "data"
   ]
  },
  {
   "cell_type": "code",
   "execution_count": 47,
   "id": "7886f1d5",
   "metadata": {},
   "outputs": [
    {
     "data": {
      "text/plain": [
       "array([[[3.14864819e-02, 1.69732257e-01, 9.49400667e-01, 7.00000000e+02],\n",
       "        [1.19515225e-01, 2.61528078e-01, 4.78102889e-01, 8.35833547e-01],\n",
       "        [1.80146806e-01, 2.61744069e-01, 3.08226581e-01, 5.26079114e-01]],\n",
       "\n",
       "       [[2.71383008e-01, 4.34171056e-01, 6.32018372e-01, 8.77671795e-01],\n",
       "        [2.72581622e-01, 2.83546915e-01, 5.35015808e-01, 9.29251935e-01],\n",
       "        [1.81336310e-01, 2.19663215e-01, 5.54705749e-01, 8.92956399e-01]]])"
      ]
     },
     "execution_count": 47,
     "metadata": {},
     "output_type": "execute_result"
    }
   ],
   "source": [
    "# sort function on array\n",
    "\n",
    "data.sort()\n",
    "data"
   ]
  },
  {
   "cell_type": "markdown",
   "id": "db2b44c2",
   "metadata": {},
   "source": []
  },
  {
   "cell_type": "code",
   "execution_count": 48,
   "id": "85f3939d",
   "metadata": {},
   "outputs": [
    {
     "name": "stdout",
     "output_type": "stream",
     "text": [
      "(2, 3, 4)\n"
     ]
    }
   ],
   "source": [
    "print(data.shape)"
   ]
  },
  {
   "cell_type": "code",
   "execution_count": null,
   "id": "913a9cc9",
   "metadata": {},
   "outputs": [],
   "source": [
    "# reshape method"
   ]
  },
  {
   "cell_type": "code",
   "execution_count": 49,
   "id": "5d187f29",
   "metadata": {},
   "outputs": [
    {
     "data": {
      "text/plain": [
       "(2, 2, 6)"
      ]
     },
     "execution_count": 49,
     "metadata": {},
     "output_type": "execute_result"
    }
   ],
   "source": [
    "data = data.reshape((2,2,-1))\n",
    "\n",
    "data.shape"
   ]
  },
  {
   "cell_type": "code",
   "execution_count": 51,
   "id": "34cbd6ff",
   "metadata": {},
   "outputs": [
    {
     "name": "stdout",
     "output_type": "stream",
     "text": [
      "[0. 0. 0. 0. 0. 0. 0. 0.]\n",
      "[0. 0. 0. 0. 0. 0. 0. 0. 3. 4.]\n"
     ]
    }
   ],
   "source": [
    "zeros = np.zeros((8))\n",
    "print(zeros)\n",
    "zeros = np.append(zeros, [3,4])   # to append data to the end\n",
    "print(zeros)"
   ]
  },
  {
   "cell_type": "code",
   "execution_count": 53,
   "id": "3b06c179",
   "metadata": {},
   "outputs": [
    {
     "name": "stdout",
     "output_type": "stream",
     "text": [
      "[0. 0. 1. 1. 0. 0. 0. 0. 0. 0. 3. 4.]\n"
     ]
    }
   ],
   "source": [
    "# can insert values into the array\n",
    "\n",
    "zeros = np.insert(zeros, 2, 1)  # add value of 1 in spot 2(0,1,2 in order of start place)\n",
    "print(zeros)"
   ]
  },
  {
   "cell_type": "code",
   "execution_count": 5,
   "id": "050f6385",
   "metadata": {},
   "outputs": [],
   "source": [
    "# Delete"
   ]
  },
  {
   "cell_type": "code",
   "execution_count": 54,
   "id": "1c7dd476",
   "metadata": {},
   "outputs": [],
   "source": [
    "# delete a segment of an array and export our array out to use later on\n"
   ]
  },
  {
   "cell_type": "code",
   "execution_count": 55,
   "id": "ff8022a6",
   "metadata": {},
   "outputs": [
    {
     "data": {
      "text/plain": [
       "array([[[3.14864819e-02, 1.69732257e-01, 9.49400667e-01, 7.00000000e+02,\n",
       "         1.19515225e-01, 2.61528078e-01],\n",
       "        [4.78102889e-01, 8.35833547e-01, 1.80146806e-01, 2.61744069e-01,\n",
       "         3.08226581e-01, 5.26079114e-01]],\n",
       "\n",
       "       [[2.71383008e-01, 4.34171056e-01, 6.32018372e-01, 8.77671795e-01,\n",
       "         2.72581622e-01, 2.83546915e-01],\n",
       "        [5.35015808e-01, 9.29251935e-01, 1.81336310e-01, 2.19663215e-01,\n",
       "         5.54705749e-01, 8.92956399e-01]]])"
      ]
     },
     "execution_count": 55,
     "metadata": {},
     "output_type": "execute_result"
    }
   ],
   "source": [
    "data"
   ]
  },
  {
   "cell_type": "code",
   "execution_count": 56,
   "id": "478a8a09",
   "metadata": {},
   "outputs": [
    {
     "data": {
      "text/plain": [
       "array([[[0.47810289, 0.83583355, 0.18014681, 0.26174407, 0.30822658,\n",
       "         0.52607911]],\n",
       "\n",
       "       [[0.53501581, 0.92925194, 0.18133631, 0.21966322, 0.55470575,\n",
       "         0.8929564 ]]])"
      ]
     },
     "execution_count": 56,
     "metadata": {},
     "output_type": "execute_result"
    }
   ],
   "source": [
    "# delete the first line(segments) of each array above\n",
    "\n",
    "np.delete(data, 0, axis=1)"
   ]
  },
  {
   "cell_type": "code",
   "execution_count": 58,
   "id": "d44b4613",
   "metadata": {},
   "outputs": [],
   "source": [
    "# save our array. save in directory of jupyter notebook\n",
    "\n",
    "# np.save(\"new array\", data)\n",
    "\n",
    "# saves to directory\n",
    "\n",
    "# test = np.load(\"new array.npy\")\n",
    "\n",
    "# test      - will reload it from memory"
   ]
  },
  {
   "cell_type": "code",
   "execution_count": null,
   "id": "59f1d520",
   "metadata": {},
   "outputs": [],
   "source": []
  }
 ],
 "metadata": {
  "kernelspec": {
   "display_name": "Python 3 (ipykernel)",
   "language": "python",
   "name": "python3"
  },
  "language_info": {
   "codemirror_mode": {
    "name": "ipython",
    "version": 3
   },
   "file_extension": ".py",
   "mimetype": "text/x-python",
   "name": "python",
   "nbconvert_exporter": "python",
   "pygments_lexer": "ipython3",
   "version": "3.10.9"
  }
 },
 "nbformat": 4,
 "nbformat_minor": 5
}

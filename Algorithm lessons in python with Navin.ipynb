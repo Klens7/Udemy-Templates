{
 "cells": [
  {
   "cell_type": "markdown",
   "id": "5efa320c",
   "metadata": {},
   "source": [
    "## Algorithm lessons in python with Navin"
   ]
  },
  {
   "cell_type": "code",
   "execution_count": 13,
   "id": "17202600",
   "metadata": {},
   "outputs": [],
   "source": [
    "## Linear Search using python"
   ]
  },
  {
   "cell_type": "code",
   "execution_count": 2,
   "id": "237915c4",
   "metadata": {},
   "outputs": [],
   "source": [
    "# write code to search for values in list\n",
    "# functons available but we want to do it manually"
   ]
  },
  {
   "cell_type": "code",
   "execution_count": null,
   "id": "3fabb8d3",
   "metadata": {},
   "outputs": [],
   "source": []
  },
  {
   "cell_type": "code",
   "execution_count": 3,
   "id": "afc0c58d",
   "metadata": {},
   "outputs": [],
   "source": [
    "list1 = [5,8,4,6,9,2]\n",
    "\n",
    "n = 9"
   ]
  },
  {
   "cell_type": "code",
   "execution_count": 12,
   "id": "18847fef",
   "metadata": {},
   "outputs": [
    {
     "name": "stdout",
     "output_type": "stream",
     "text": [
      "Found at  4\n"
     ]
    }
   ],
   "source": [
    "# negtiave one if we havent found the value\n",
    "# global variable\n",
    "pos = -1\n",
    "\n",
    "def search(list1,n):\n",
    "    i = 0\n",
    "    \n",
    "    while i <len(list1):\n",
    "        if list1[i]==n:\n",
    "            globals()['pos'] = i\n",
    "            return True\n",
    "        i = i +1\n",
    "        \n",
    "    return False\n",
    "\n",
    "list1 = [5,8,4,6,9,2]\n",
    "\n",
    "n = 9\n",
    "\n",
    "if search(list1,n):\n",
    "         print(\"Found at \",pos )\n",
    "else:\n",
    "    print(\"Not Found\")"
   ]
  },
  {
   "cell_type": "code",
   "execution_count": null,
   "id": "caaffb65",
   "metadata": {},
   "outputs": [],
   "source": []
  },
  {
   "cell_type": "code",
   "execution_count": 14,
   "id": "566aa6fb",
   "metadata": {},
   "outputs": [],
   "source": [
    "# BINARY SEARCH USING PYTHON\n",
    "\n",
    "# linear search is good, except when list lenght increases\n",
    "# binary search is better, all values are sorted\n",
    "# lower bound and upper bound, with mid index\n",
    "# using int division"
   ]
  },
  {
   "cell_type": "code",
   "execution_count": 17,
   "id": "f33e3156",
   "metadata": {},
   "outputs": [
    {
     "name": "stdout",
     "output_type": "stream",
     "text": [
      "Found at  7\n"
     ]
    }
   ],
   "source": [
    "list2 = [4,7,8,12,45,99,105,133, 457]\n",
    "\n",
    "n = 133\n",
    "\n",
    "pos = -1\n",
    "\n",
    "def bin_search(list2,n):\n",
    "    \n",
    "    # lower bound\n",
    "    l = 0\n",
    "    \n",
    "    # upper bound\n",
    "    u = len(list2)-1\n",
    "\n",
    "    while l <= u:\n",
    "        # find mid\n",
    "        mid = (l + u) // 2\n",
    "        \n",
    "        if list2[mid]== n :\n",
    "            globals ()['pos'] = mid\n",
    "            return True\n",
    "        \n",
    "        # what if the value is not there\n",
    "        else:\n",
    "            if list2[mid] < n:\n",
    "                l = mid +1\n",
    "            else:\n",
    "                u = mid - 1\n",
    "    return False\n",
    "                \n",
    "                \n",
    "if search(list2,n):\n",
    "         print(\"Found at \",pos )\n",
    "else:\n",
    "    print(\"Not Found\")\n",
    "    "
   ]
  },
  {
   "cell_type": "code",
   "execution_count": null,
   "id": "e724f20d",
   "metadata": {},
   "outputs": [],
   "source": []
  },
  {
   "cell_type": "code",
   "execution_count": null,
   "id": "fdf79e07",
   "metadata": {},
   "outputs": [],
   "source": []
  },
  {
   "cell_type": "code",
   "execution_count": 18,
   "id": "d8dca533",
   "metadata": {},
   "outputs": [],
   "source": [
    "## PYTHON SORT - list sorting manually\n",
    "\n",
    "# BUBBLE SORT\n",
    "# swapping variables\n"
   ]
  },
  {
   "cell_type": "code",
   "execution_count": 23,
   "id": "08f502fc",
   "metadata": {},
   "outputs": [],
   "source": [
    "nums123 = [5,3,8,6,7,2]"
   ]
  },
  {
   "cell_type": "code",
   "execution_count": 25,
   "id": "d05e68bf",
   "metadata": {},
   "outputs": [
    {
     "name": "stdout",
     "output_type": "stream",
     "text": [
      "[2, 3, 5, 6, 7, 8]\n"
     ]
    }
   ],
   "source": [
    "def sort(nums123):\n",
    "    for i in range(len(nums123)-1,0,-1):\n",
    "        for j in range(i):\n",
    "            if nums123[j]>nums123[j+1]:\n",
    "                temp = nums123[j]\n",
    "                nums123[j] = nums123[j+1]\n",
    "                nums123[j+1] = temp\n",
    "\n",
    "nums123 = [5,3,8,6,7,2]\n",
    "\n",
    "sort(nums123)\n",
    "\n",
    "print(nums123)"
   ]
  },
  {
   "cell_type": "code",
   "execution_count": null,
   "id": "aa1bd2a7",
   "metadata": {},
   "outputs": [],
   "source": []
  },
  {
   "cell_type": "code",
   "execution_count": null,
   "id": "972ae863",
   "metadata": {},
   "outputs": [],
   "source": []
  },
  {
   "cell_type": "code",
   "execution_count": 26,
   "id": "10db4c36",
   "metadata": {},
   "outputs": [],
   "source": [
    "## SELECTION SORT IN PYTHON\n",
    "\n",
    "# bubble sort swapping consumes a lot of cpu compute power"
   ]
  },
  {
   "cell_type": "code",
   "execution_count": 29,
   "id": "31bb9f1e",
   "metadata": {},
   "outputs": [
    {
     "name": "stdout",
     "output_type": "stream",
     "text": [
      "[2, 3, 5, 6, 7, 8]\n"
     ]
    }
   ],
   "source": [
    "def sort(nums):\n",
    "    \n",
    "    for i in range(5):\n",
    "        minpos = i\n",
    "        for j in range(i,6):\n",
    "            if nums[j] < nums[minpos]:\n",
    "                minpos = j\n",
    "            \n",
    "            \n",
    "        temp = nums[i]\n",
    "        nums[i] = nums[minpos]\n",
    "        nums[minpos] = temp\n",
    "        \n",
    "        # to see what each swap looks like\n",
    "        # print(nums)\n",
    "        \n",
    "nums = [5,3,8,6,7,2]\n",
    "sort(nums)\n",
    "\n",
    "print(nums)"
   ]
  },
  {
   "cell_type": "code",
   "execution_count": null,
   "id": "406f07bb",
   "metadata": {},
   "outputs": [],
   "source": []
  }
 ],
 "metadata": {
  "kernelspec": {
   "display_name": "Python 3 (ipykernel)",
   "language": "python",
   "name": "python3"
  },
  "language_info": {
   "codemirror_mode": {
    "name": "ipython",
    "version": 3
   },
   "file_extension": ".py",
   "mimetype": "text/x-python",
   "name": "python",
   "nbconvert_exporter": "python",
   "pygments_lexer": "ipython3",
   "version": "3.10.9"
  }
 },
 "nbformat": 4,
 "nbformat_minor": 5
}
